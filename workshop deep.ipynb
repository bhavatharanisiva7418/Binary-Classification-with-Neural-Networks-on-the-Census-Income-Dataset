{
 "cells": [
  {
   "cell_type": "markdown",
   "id": "0763aba2-4041-4266-8c47-968a31e67229",
   "metadata": {},
   "source": [
    "# Binary classification with Neural Networkon the Census Income dataset\n",
    "\n",
    "**Name :** BHAVATHARANNI S\n",
    "\n",
    "\n",
    "**Reg.No :** 212223230032\n"
   ]
  },
  {
   "cell_type": "code",
   "execution_count": 1,
   "id": "f4638262-ef37-481b-884f-bd4bc7c4fa10",
   "metadata": {},
   "outputs": [],
   "source": [
    "\n",
    "import torch\n",
    "import torch.nn as nn\n",
    "import numpy as np\n",
    "import pandas as pd\n",
    "import matplotlib.pyplot as plt\n",
    "from sklearn.utils import shuffle"
   ]
  },
  {
   "cell_type": "code",
   "execution_count": 2,
   "id": "af028025-3912-46bd-93f1-d0d8b9cf2edf",
   "metadata": {},
   "outputs": [],
   "source": [
    "\n",
    "dataset=pd.read_csv('income.csv')"
   ]
  },
  {
   "cell_type": "code",
   "execution_count": 3,
   "id": "30b24b2b-c82b-4975-acea-2e4580aeb6e9",
   "metadata": {},
   "outputs": [
    {
     "name": "stdout",
     "output_type": "stream",
     "text": [
      "Length of the Dataset :  30000\n"
     ]
    },
    {
     "data": {
      "text/html": [
       "<div>\n",
       "<style scoped>\n",
       "    .dataframe tbody tr th:only-of-type {\n",
       "        vertical-align: middle;\n",
       "    }\n",
       "\n",
       "    .dataframe tbody tr th {\n",
       "        vertical-align: top;\n",
       "    }\n",
       "\n",
       "    .dataframe thead th {\n",
       "        text-align: right;\n",
       "    }\n",
       "</style>\n",
       "<table border=\"1\" class=\"dataframe\">\n",
       "  <thead>\n",
       "    <tr style=\"text-align: right;\">\n",
       "      <th></th>\n",
       "      <th>age</th>\n",
       "      <th>sex</th>\n",
       "      <th>education</th>\n",
       "      <th>education-num</th>\n",
       "      <th>marital-status</th>\n",
       "      <th>workclass</th>\n",
       "      <th>occupation</th>\n",
       "      <th>hours-per-week</th>\n",
       "      <th>income</th>\n",
       "      <th>label</th>\n",
       "    </tr>\n",
       "  </thead>\n",
       "  <tbody>\n",
       "    <tr>\n",
       "      <th>0</th>\n",
       "      <td>27</td>\n",
       "      <td>Male</td>\n",
       "      <td>HS-grad</td>\n",
       "      <td>9</td>\n",
       "      <td>Never-married</td>\n",
       "      <td>Private</td>\n",
       "      <td>Craft-repair</td>\n",
       "      <td>40</td>\n",
       "      <td>&lt;=50K</td>\n",
       "      <td>0</td>\n",
       "    </tr>\n",
       "    <tr>\n",
       "      <th>1</th>\n",
       "      <td>47</td>\n",
       "      <td>Male</td>\n",
       "      <td>Masters</td>\n",
       "      <td>14</td>\n",
       "      <td>Married</td>\n",
       "      <td>Local-gov</td>\n",
       "      <td>Exec-managerial</td>\n",
       "      <td>50</td>\n",
       "      <td>&gt;50K</td>\n",
       "      <td>1</td>\n",
       "    </tr>\n",
       "    <tr>\n",
       "      <th>2</th>\n",
       "      <td>59</td>\n",
       "      <td>Male</td>\n",
       "      <td>HS-grad</td>\n",
       "      <td>9</td>\n",
       "      <td>Divorced</td>\n",
       "      <td>Self-emp</td>\n",
       "      <td>Prof-specialty</td>\n",
       "      <td>20</td>\n",
       "      <td>&lt;=50K</td>\n",
       "      <td>0</td>\n",
       "    </tr>\n",
       "    <tr>\n",
       "      <th>3</th>\n",
       "      <td>38</td>\n",
       "      <td>Female</td>\n",
       "      <td>Prof-school</td>\n",
       "      <td>15</td>\n",
       "      <td>Never-married</td>\n",
       "      <td>Federal-gov</td>\n",
       "      <td>Prof-specialty</td>\n",
       "      <td>57</td>\n",
       "      <td>&gt;50K</td>\n",
       "      <td>1</td>\n",
       "    </tr>\n",
       "    <tr>\n",
       "      <th>4</th>\n",
       "      <td>64</td>\n",
       "      <td>Female</td>\n",
       "      <td>11th</td>\n",
       "      <td>7</td>\n",
       "      <td>Widowed</td>\n",
       "      <td>Private</td>\n",
       "      <td>Farming-fishing</td>\n",
       "      <td>40</td>\n",
       "      <td>&lt;=50K</td>\n",
       "      <td>0</td>\n",
       "    </tr>\n",
       "  </tbody>\n",
       "</table>\n",
       "</div>"
      ],
      "text/plain": [
       "   age     sex    education  education-num marital-status    workclass  \\\n",
       "0   27    Male      HS-grad              9  Never-married      Private   \n",
       "1   47    Male      Masters             14        Married    Local-gov   \n",
       "2   59    Male      HS-grad              9       Divorced     Self-emp   \n",
       "3   38  Female  Prof-school             15  Never-married  Federal-gov   \n",
       "4   64  Female         11th              7        Widowed      Private   \n",
       "\n",
       "        occupation  hours-per-week income  label  \n",
       "0     Craft-repair              40  <=50K      0  \n",
       "1  Exec-managerial              50   >50K      1  \n",
       "2   Prof-specialty              20  <=50K      0  \n",
       "3   Prof-specialty              57   >50K      1  \n",
       "4  Farming-fishing              40  <=50K      0  "
      ]
     },
     "execution_count": 3,
     "metadata": {},
     "output_type": "execute_result"
    }
   ],
   "source": [
    "\n",
    "print(\"Length of the Dataset : \",len(dataset))\n",
    "dataset.head()"
   ]
  },
  {
   "cell_type": "code",
   "execution_count": 4,
   "id": "9f140190-cfc6-4e2f-be8e-f66855f36d1d",
   "metadata": {},
   "outputs": [
    {
     "data": {
      "text/plain": [
       "label\n",
       "0    21700\n",
       "1     8300\n",
       "Name: count, dtype: int64"
      ]
     },
     "execution_count": 4,
     "metadata": {},
     "output_type": "execute_result"
    }
   ],
   "source": [
    "\n",
    "dataset['label'].value_counts()"
   ]
  },
  {
   "cell_type": "markdown",
   "id": "e1513477-2e85-41df-aef3-16c70ab0b6ef",
   "metadata": {},
   "source": [
    "### Separate continuous, categorical and label column names"
   ]
  },
  {
   "cell_type": "code",
   "execution_count": 5,
   "id": "12ebd34d-9788-4924-b988-199d5dd6ab93",
   "metadata": {},
   "outputs": [
    {
     "data": {
      "text/plain": [
       "Index(['age', 'sex', 'education', 'education-num', 'marital-status',\n",
       "       'workclass', 'occupation', 'hours-per-week', 'income', 'label'],\n",
       "      dtype='object')"
      ]
     },
     "execution_count": 5,
     "metadata": {},
     "output_type": "execute_result"
    }
   ],
   "source": [
    "dataset.columns"
   ]
  },
  {
   "cell_type": "code",
   "execution_count": 6,
   "id": "c7b177ab-0e9a-4298-b835-f758cfe9dcae",
   "metadata": {},
   "outputs": [
    {
     "name": "stdout",
     "output_type": "stream",
     "text": [
      "categorical columns  has 5 columns\n",
      "continuos columns has 2 columns\n",
      "label column     has 1 column\n"
     ]
    }
   ],
   "source": [
    "categorical_columns = ['sex', 'education', 'marital-status', 'workclass', 'occupation'] \n",
    "continuous_columns = ['age', 'hours-per-week']  # 2 continuous\n",
    "label_column = ['label']  # 1 label\n",
    "\n",
    "print(f'categorical columns  has {len(categorical_columns)} columns')\n",
    "print(f'continuos columns has {len(continuous_columns)} columns')\n",
    "print(f'label column     has {len(label_column)} column')"
   ]
  },
  {
   "cell_type": "markdown",
   "id": "cc4cd39d-99fa-4c88-902b-2dde277cede3",
   "metadata": {},
   "source": [
    "### Create arrays and tensors for categorical values, continuous values, and labels."
   ]
  },
  {
   "cell_type": "code",
   "execution_count": 7,
   "id": "00004f2f-f585-4ac7-a403-66fb4dcabbe5",
   "metadata": {},
   "outputs": [],
   "source": [
    "\n",
    "for col in categorical_columns:\n",
    "    dataset[col] = dataset[col].astype('category')"
   ]
  },
  {
   "cell_type": "code",
   "execution_count": 88,
   "id": "66ec8f12-c5a9-43e1-9fe0-646430c62092",
   "metadata": {},
   "outputs": [],
   "source": [
    "dataset = shuffle(dataset, random_state=101)\n",
    "dataset.reset_index(drop=True, inplace=True)"
   ]
  },
  {
   "cell_type": "code",
   "execution_count": 9,
   "id": "37d02635-d4bb-4cf1-a7af-644ea21a920c",
   "metadata": {},
   "outputs": [],
   "source": [
    "cat_szs = [len(dataset[col].cat.categories) for col in categorical_columns]"
   ]
  },
  {
   "cell_type": "code",
   "execution_count": 10,
   "id": "02e915e4-3f5d-4399-96d0-5ea84e1c37c0",
   "metadata": {},
   "outputs": [
    {
     "name": "stdout",
     "output_type": "stream",
     "text": [
      "[(2, 1), (14, 7), (6, 3), (5, 3), (12, 6)]\n"
     ]
    }
   ],
   "source": [
    "emb_szs = [(c, (c+1)//2) for c in cat_szs]\n",
    "print(emb_szs)"
   ]
  },
  {
   "cell_type": "code",
   "execution_count": 11,
   "id": "1367c24d-ae82-4abc-a761-a2950b5cfc95",
   "metadata": {},
   "outputs": [
    {
     "name": "stdout",
     "output_type": "stream",
     "text": [
      "[[ 1 10  3  2  1]\n",
      " [ 1 11  1  1  2]\n",
      " [ 1 10  0  3  7]\n",
      " [ 0 12  3  0  7]\n",
      " [ 0  1  5  2  3]]\n"
     ]
    }
   ],
   "source": [
    "categorical = np.stack([dataset[col].cat.codes.values for col in categorical_columns], axis=1)\n",
    "print(categorical[:5])"
   ]
  },
  {
   "cell_type": "code",
   "execution_count": 12,
   "id": "85366f11-a231-4e2d-8e83-1333397ac5c3",
   "metadata": {},
   "outputs": [
    {
     "name": "stdout",
     "output_type": "stream",
     "text": [
      "torch.int64\n"
     ]
    }
   ],
   "source": [
    "categorical = torch.tensor(categorical, dtype=torch.int64)\n",
    "print(categorical.dtype)"
   ]
  },
  {
   "cell_type": "code",
   "execution_count": 13,
   "id": "6b0ef85a-bdc1-49fe-95b6-8a089aead2fd",
   "metadata": {},
   "outputs": [
    {
     "name": "stdout",
     "output_type": "stream",
     "text": [
      "[[27 40]\n",
      " [47 50]\n",
      " [59 20]\n",
      " [38 57]\n",
      " [64 40]]\n"
     ]
    }
   ],
   "source": [
    "continuous = np.stack([dataset[col].values for col in continuous_columns], axis=1)\n",
    "print(continuous[:5])"
   ]
  },
  {
   "cell_type": "code",
   "execution_count": 14,
   "id": "9e83ec2b-83d8-436e-869e-164cbdbb8df7",
   "metadata": {},
   "outputs": [
    {
     "name": "stdout",
     "output_type": "stream",
     "text": [
      "torch.float32\n"
     ]
    }
   ],
   "source": [
    "continuous = torch.tensor(continuous, dtype=torch.float32)\n",
    "print(continuous.dtype)"
   ]
  },
  {
   "cell_type": "code",
   "execution_count": 15,
   "id": "5fabb7eb-4bea-4f42-8197-80a9bd45d3e2",
   "metadata": {},
   "outputs": [
    {
     "name": "stdout",
     "output_type": "stream",
     "text": [
      "torch.int64 torch.Size([30000])\n"
     ]
    }
   ],
   "source": [
    "label = torch.tensor(dataset[label_column].values.reshape(-1), dtype=torch.long)\n",
    "print(label.dtype, label.shape)"
   ]
  },
  {
   "cell_type": "markdown",
   "id": "fefc8ec7-e30f-4a68-bae9-c2de43801504",
   "metadata": {},
   "source": [
    "### Split the dataset into training and testing sets (use 25,000 for training and 5,000 for testing)."
   ]
  },
  {
   "cell_type": "code",
   "execution_count": 16,
   "id": "2a0c8a0d-c42b-4bc8-a909-849a2eec8358",
   "metadata": {},
   "outputs": [],
   "source": [
    "batch = 30000  # batch (entire dataset as exercise)\n",
    "test = 5000   # test size\n",
    "train = batch - test  # train size"
   ]
  },
  {
   "cell_type": "code",
   "execution_count": 17,
   "id": "733e32bd-3219-48c1-ad16-9a213d20a985",
   "metadata": {},
   "outputs": [],
   "source": [
    "categorical_train = categorical[:batch - test]\n",
    "categorical_test  = categorical[batch - test:]"
   ]
  },
  {
   "cell_type": "code",
   "execution_count": 18,
   "id": "1e88141e-ec63-4b8d-a741-b64d267d5f46",
   "metadata": {},
   "outputs": [],
   "source": [
    "continuous_train = continuous[:batch - test]\n",
    "continuous_test  = continuous[batch - test:]"
   ]
  },
  {
   "cell_type": "code",
   "execution_count": 19,
   "id": "d5d1e478-9697-4b79-8cb9-9e8566494b29",
   "metadata": {},
   "outputs": [],
   "source": [
    "label_train = label[:batch - test]\n",
    "label_test  = label[batch - test:]"
   ]
  },
  {
   "cell_type": "code",
   "execution_count": 20,
   "id": "eaaf5dd8-2cc9-4b6c-95fb-86e55d263a62",
   "metadata": {},
   "outputs": [
    {
     "name": "stdout",
     "output_type": "stream",
     "text": [
      "<class 'torch.Tensor'> torch.int64\n",
      "<class 'torch.Tensor'> torch.float32\n",
      "<class 'torch.Tensor'> torch.int64\n"
     ]
    }
   ],
   "source": [
    "print(type(categorical_train), categorical_train.dtype)\n",
    "print(type(continuous_train), continuous_train.dtype)\n",
    "print(type(label_train), label_train.dtype)"
   ]
  },
  {
   "cell_type": "code",
   "execution_count": 21,
   "id": "d69fc40a-dda8-4496-80c9-b936bb836ab1",
   "metadata": {},
   "outputs": [
    {
     "name": "stdout",
     "output_type": "stream",
     "text": [
      "torch.Size([25000, 5]) torch.Size([25000, 2]) torch.Size([25000])\n",
      "torch.Size([5000, 5]) torch.Size([5000, 2]) torch.Size([5000])\n"
     ]
    }
   ],
   "source": [
    "print(categorical_train.shape, continuous_train.shape, label_train.shape)\n",
    "print(categorical_test.shape, continuous_test.shape, label_test.shape)"
   ]
  },
  {
   "cell_type": "markdown",
   "id": "2b881806-83b8-4d41-a668-31ed3c7d0ca8",
   "metadata": {},
   "source": [
    "### Define a TabularModel class that takes embeddings for categorical features and batch-normalized continuous features."
   ]
  },
  {
   "cell_type": "code",
   "execution_count": 22,
   "id": "aaebca79-0be0-4beb-9f58-af5bd41777f0",
   "metadata": {},
   "outputs": [],
   "source": [
    "#Create a TabularModel instance (one hidden layer with 50 neurons, p=0.4)\n",
    "class TabularModel(nn.Module):\n",
    "\n",
    "    def __init__(self, emb_szs, n_cont, out_sz, layers, p=0.5): #n_cont - no.of continuous features, out_sz - output layer , p - dropout probablity\n",
    "        # Call the parent __init__\n",
    "        super().__init__()\n",
    "        \n",
    "        # Set up the embedding, dropout, and batch normalization layer attributes\n",
    "        self.embeds = nn.ModuleList([nn.Embedding(ni, nf) for ni,nf in emb_szs]) #ni - number of categories, nf - embedding size\n",
    "        self.emb_drop = nn.Dropout(p)\n",
    "        self.bn_cont = nn.BatchNorm1d(n_cont)\n",
    "        \n",
    "        # Assign a variable to hold a list of layers\n",
    "        layerlist = []\n",
    "        \n",
    "        # Assign a variable to store the number of embedding and continuous layers\n",
    "        n_emb = sum((nf for ni,nf in emb_szs))\n",
    "        n_in = n_emb + n_cont\n",
    "        \n",
    "        # Iterate through the passed-in \"layers\" parameter (ie, [200,100]) to build a list of layers\n",
    "        for i in layers:\n",
    "            layerlist.append(nn.Linear(n_in,i)) \n",
    "            layerlist.append(nn.ReLU(inplace=True))\n",
    "            layerlist.append(nn.BatchNorm1d(i))\n",
    "            layerlist.append(nn.Dropout(p))\n",
    "            n_in = i\n",
    "        layerlist.append(nn.Linear(layers[-1],out_sz))\n",
    "        \n",
    "        # Convert the list of layers into an attribute\n",
    "        self.layers = nn.Sequential(*layerlist)\n",
    "    \n",
    "    def forward(self, x_cat, x_cont):\n",
    "        # Extract embedding values from the incoming categorical data\n",
    "        embeddings = []\n",
    "        for i,e in enumerate(self.embeds):\n",
    "            embeddings.append(e(x_cat[:,i]))\n",
    "        x = torch.cat(embeddings, 1)\n",
    "        # Perform an initial dropout on the embeddings\n",
    "        x = self.emb_drop(x)\n",
    "        \n",
    "        # Normalize the incoming continuous data\n",
    "        x_cont = self.bn_cont(x_cont)\n",
    "        x = torch.cat([x, x_cont], 1)\n",
    "        \n",
    "        # Set up model layers\n",
    "        x = self.layers(x)\n",
    "        return x"
   ]
  },
  {
   "cell_type": "markdown",
   "id": "0861a0f0-e2b5-4e62-a587-58b8dc94b2e5",
   "metadata": {},
   "source": [
    "### Create a model with one hidden layer of 50 neurons and dropout p=0.4."
   ]
  },
  {
   "cell_type": "code",
   "execution_count": 23,
   "id": "c3660a7f-d422-4cfb-8900-f225dc85124e",
   "metadata": {},
   "outputs": [
    {
     "data": {
      "text/plain": [
       "<torch._C.Generator at 0x1fd65b58e90>"
      ]
     },
     "execution_count": 23,
     "metadata": {},
     "output_type": "execute_result"
    }
   ],
   "source": [
    "torch.manual_seed(23)"
   ]
  },
  {
   "cell_type": "code",
   "execution_count": 24,
   "id": "45fc7710-da8e-4d03-8d91-aca9f302edd4",
   "metadata": {},
   "outputs": [
    {
     "name": "stdout",
     "output_type": "stream",
     "text": [
      "TabularModel(\n",
      "  (embeds): ModuleList(\n",
      "    (0): Embedding(2, 1)\n",
      "    (1): Embedding(14, 7)\n",
      "    (2): Embedding(6, 3)\n",
      "    (3): Embedding(5, 3)\n",
      "    (4): Embedding(12, 6)\n",
      "  )\n",
      "  (emb_drop): Dropout(p=0.4, inplace=False)\n",
      "  (bn_cont): BatchNorm1d(2, eps=1e-05, momentum=0.1, affine=True, track_running_stats=True)\n",
      "  (layers): Sequential(\n",
      "    (0): Linear(in_features=22, out_features=50, bias=True)\n",
      "    (1): ReLU(inplace=True)\n",
      "    (2): BatchNorm1d(50, eps=1e-05, momentum=0.1, affine=True, track_running_stats=True)\n",
      "    (3): Dropout(p=0.4, inplace=False)\n",
      "    (4): Linear(in_features=50, out_features=2, bias=True)\n",
      "  )\n",
      ")\n"
     ]
    }
   ],
   "source": [
    "n_cont = len(continuous_columns)\n",
    "model = TabularModel(emb_szs, n_cont=n_cont, out_sz=2, layers=[50], p=0.4) #Hidden layer of 50 neurons and p=0.4\n",
    "print(model)"
   ]
  },
  {
   "cell_type": "markdown",
   "id": "8e6f7886-1479-4558-a8a7-c3f8e6ddecc0",
   "metadata": {},
   "source": [
    "### Use CrossEntropyLoss as the criterion and Adam optimizer (lr=0.001)."
   ]
  },
  {
   "cell_type": "code",
   "execution_count": 25,
   "id": "dab57cf3-e9f5-4549-873f-21dc58b83c5e",
   "metadata": {},
   "outputs": [],
   "source": [
    "criterion = nn.CrossEntropyLoss()\n",
    "optimizer = torch.optim.Adam(model.parameters(), lr=0.001)"
   ]
  },
  {
   "cell_type": "markdown",
   "id": "3b764bc4-afc1-4d9c-bc06-1d6363bf55b0",
   "metadata": {},
   "source": [
    "### Train the model for 300 epochs."
   ]
  },
  {
   "cell_type": "code",
   "execution_count": 26,
   "id": "9fafc999-4313-4907-b98d-f6c1249ec095",
   "metadata": {},
   "outputs": [
    {
     "name": "stdout",
     "output_type": "stream",
     "text": [
      "epoch:   1  loss: 0.83546549\n",
      "epoch:  26  loss: 0.57158816\n",
      "epoch:  51  loss: 0.49953449\n",
      "epoch:  76  loss: 0.46479890\n",
      "epoch: 101  loss: 0.43373504\n",
      "epoch: 126  loss: 0.41331163\n",
      "epoch: 151  loss: 0.39693961\n",
      "epoch: 176  loss: 0.38798055\n",
      "epoch: 201  loss: 0.37048125\n",
      "epoch: 226  loss: 0.35629022\n",
      "epoch: 251  loss: 0.34618863\n",
      "epoch: 276  loss: 0.33705452\n",
      "epoch: 299  loss: 0.33366397\n",
      "\n",
      "Duration: 46 seconds\n"
     ]
    }
   ],
   "source": [
    "import time\n",
    "start_time = time.time()\n",
    "\n",
    "epochs = 300\n",
    "losses = []\n",
    "\n",
    "for i in range(epochs):\n",
    "    y_pred = model(categorical_train, continuous_train)\n",
    "    loss = criterion(y_pred, label_train)\n",
    "    losses.append(loss.item())\n",
    "    \n",
    "    # a neat trick to save screen space:\n",
    "    if i%25 == 1:\n",
    "        print(f'epoch: {i:3}  loss: {loss.item():10.8f}')\n",
    "\n",
    "    optimizer.zero_grad()\n",
    "    loss.backward()\n",
    "    optimizer.step()\n",
    "\n",
    "print(f'epoch: {i:3}  loss: {loss.item():10.8f}') # print the last line\n",
    "print(f'\\nDuration: {time.time() - start_time:.0f} seconds') # print the time elapsed"
   ]
  },
  {
   "cell_type": "code",
   "execution_count": 27,
   "id": "af3a178e-f43b-46c9-82d6-212b5bea763d",
   "metadata": {},
   "outputs": [
    {
     "data": {
      "image/png": "[encoded data removed]",
      "text/plain": [
       "<Figure size 800x400 with 1 Axes>"
      ]
     },
     "metadata": {},
     "output_type": "display_data"
    }
   ],
   "source": [
    "# Plot Cross Entropy Loss vs epochs\n",
    "plt.figure(figsize=(8,4))\n",
    "plt.plot(losses)\n",
    "plt.xlabel('Epoch')\n",
    "plt.ylabel('Cross Entropy Loss')\n",
    "plt.title('Training Loss')\n",
    "plt.grid(True)\n",
    "plt.show()"
   ]
  },
  {
   "cell_type": "markdown",
   "id": "70a01e83-2e9e-49c0-a758-ebe5415e4b3e",
   "metadata": {},
   "source": [
    "### Evaluate the test set (Cross Entropy loss on test)"
   ]
  },
  {
   "cell_type": "code",
   "execution_count": 28,
   "id": "c1c042a8-c260-4f1d-8f70-062e55b86038",
   "metadata": {},
   "outputs": [
    {
     "name": "stdout",
     "output_type": "stream",
     "text": [
      "CE Loss: 0.30010858\n"
     ]
    }
   ],
   "source": [
    "# Evaluate the test set (CE loss on test)\n",
    "model.eval()\n",
    "with torch.no_grad():\n",
    "    y_val = model(categorical_test, continuous_test)\n",
    "    loss_val = criterion(y_val, label_test)\n",
    "\n",
    "print(f'CE Loss: {loss_val.item():.8f}')"
   ]
  },
  {
   "cell_type": "markdown",
   "id": "5cee8063-bf48-47ce-b370-8495d9b3fd8f",
   "metadata": {},
   "source": [
    "### Accuracy"
   ]
  },
  {
   "cell_type": "code",
   "execution_count": 29,
   "id": "6bb5ffc2-9703-40e4-8261-a5032f0e641e",
   "metadata": {},
   "outputs": [
    {
     "name": "stdout",
     "output_type": "stream",
     "text": [
      "4378 out of 5000 = 87.56% correct\n"
     ]
    }
   ],
   "source": [
    "with torch.no_grad():\n",
    "    preds = torch.argmax(y_val, dim=1)\n",
    "    correct = (preds == label_test).sum().item()\n",
    "    total = label_test.size(0)\n",
    "    acc = correct / total * 100.0\n",
    "    print(f'{correct} out of {total} = {acc:.2f}% correct')"
   ]
  },
  {
   "cell_type": "code",
   "execution_count": null,
   "id": "426e6e6b-d0eb-45e7-a7da-3879a0ee06a1",
   "metadata": {},
   "outputs": [],
   "source": []
  }
 ],
 "metadata": {
  "kernelspec": {
   "display_name": "Python 3 (ipykernel)",
   "language": "python",
   "name": "python3"
  },
  "language_info": {
   "codemirror_mode": {
    "name": "ipython",
    "version": 3
   },
   "file_extension": ".py",
   "mimetype": "text/x-python",
   "name": "python",
   "nbconvert_exporter": "python",
   "pygments_lexer": "ipython3",
   "version": "3.11.13"
  }
 },
 "nbformat": 4,
 "nbformat_minor": 5
}
